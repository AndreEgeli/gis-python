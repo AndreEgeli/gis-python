{
 "cells": [
  {
   "cell_type": "markdown",
   "metadata": {},
   "source": [
    "## Tips and tricks\n",
    "\n",
    "This section hopes to explain some tips and tricks that I've learnt working with these types of data over the years, and hopefully they'll come to good use for you\n",
    "\n",
    "vectors\n",
    "- Importance of the CRS, always check it\n",
    "- inplace versus not in place for geodataframes\n",
    "- apply instead of iterrows()\n",
    "- Ensure a projected CRS before doing operations on vector data\n",
    "\n",
    "\n",
    "Rasters\n",
    "- With rasters you always need to create connection before reading, use with statements to properly handle closing\n",
    "- Large rasters, you can read window files\n",
    "- Nodata values and masking can be very important (and tricky). Read here: https://rasterio.readthedocs.io/en/latest/topics/masks.html \n"
   ]
  },
  {
   "cell_type": "code",
   "execution_count": null,
   "metadata": {},
   "outputs": [],
   "source": [
    "\n",
    "\n"
   ]
  }
 ],
 "metadata": {
  "language_info": {
   "name": "python"
  }
 },
 "nbformat": 4,
 "nbformat_minor": 2
}
